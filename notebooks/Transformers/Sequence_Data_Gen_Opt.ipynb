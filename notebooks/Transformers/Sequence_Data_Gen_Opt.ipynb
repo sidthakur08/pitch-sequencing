{
 "cells": [
  {
   "cell_type": "code",
   "execution_count": 1,
   "id": "5241c88c",
   "metadata": {},
   "outputs": [],
   "source": [
    "import pandas as pd\n",
    "import pybaseball\n",
    "from pybaseball import statcast\n",
    "pd.set_option('display.max_columns', 500)"
   ]
  },
  {
   "cell_type": "code",
   "execution_count": 2,
   "id": "ef35e313",
   "metadata": {},
   "outputs": [],
   "source": [
    "def fetch_statcast_data(start_date, end_date):\n",
    "    # Fetch data from Statcast\n",
    "    data = statcast(start_date, end_date)\n",
    "    return data"
   ]
  },
  {
   "cell_type": "code",
   "execution_count": 3,
   "id": "337e8755",
   "metadata": {},
   "outputs": [],
   "source": [
    "def process_data(data):\n",
    "    # Filter necessary columns\n",
    "    data = data[['game_date', 'batter', 'pitcher', 'pitch_type', 'events', 'at_bat_number', 'pitch_number']]\n",
    "    \n",
    "    # Drop rows where pitch_type is NaN (happens occasionally in real datasets)\n",
    "    data = data.dropna(subset=['pitch_type'])\n",
    "\n",
    "    # Group data by game, batter, pitcher, and at_bat_number, then sort by pitch_number\n",
    "    # Use apply to ensure the group maintains DataFrame format after sorting\n",
    "    grouped = data.groupby(['game_date', 'batter', 'pitcher', 'at_bat_number']).apply(lambda x: x.sort_values('pitch_number')).reset_index(drop=True)\n",
    "\n",
    "    # We can't directly iterate with multiple unpacks if using apply without specifying 'group_keys=False' in the groupby\n",
    "    # However, by resetting the index, we revert to a single DataFrame and thus lose the direct tuple unpacking ability\n",
    "    # Create a DataFrame to store the sequence, pitcher ID, and at-bat outcome\n",
    "    at_bats = []\n",
    "    for _, group in grouped.groupby(['game_date', 'batter', 'pitcher', 'at_bat_number']):\n",
    "        sequence = ','.join(group['pitch_type'].tolist())\n",
    "        outcome = group['events'].iloc[-1] if not pd.isna(group['events'].iloc[-1]) else 'No event'\n",
    "        pitcher_id = group['pitcher'].iloc[0]\n",
    "        at_bats.append([sequence, pitcher_id, outcome])\n",
    "\n",
    "    # Convert list to DataFrame\n",
    "    result_df = pd.DataFrame(at_bats, columns=['Pitch Sequence', 'Pitcher ID', 'At-Bat Outcome'])\n",
    "    return result_df\n"
   ]
  },
  {
   "cell_type": "code",
   "execution_count": 4,
   "id": "3451eb94",
   "metadata": {},
   "outputs": [],
   "source": [
    "def consolidate_pitch_types_cur(data):\n",
    "    # Mapping dictionary for pitch types\n",
    "    pitch_type_map = {\n",
    "        'CH': 'CH',  # Changeup\n",
    "        'CU': 'CB',  # Curveball\n",
    "        'FC': 'FC',  # Cutter\n",
    "        'EP': 'CH',  # Eephus\n",
    "        'FO': 'CH',  # Forkball\n",
    "        'FF': 'FF',  # Four-Seam Fastball\n",
    "        'KN': 'KN',  # Knuckleball\n",
    "        'KC': 'CB',  # Knuckle-curve\n",
    "        'SC': 'CH',  # Screwball\n",
    "        'SI': 'SI',  # Sinker\n",
    "        'SL': 'SL',  # Slider\n",
    "        'SV': 'CB',  # Slurve\n",
    "        'FS': 'FS',  # Splitter\n",
    "        'ST': 'ST',  # Sweeper\n",
    "        'FA': 'FF',  # Fastball\n",
    "        'PO': 'PO',  # Pitch out\n",
    "        'CS': 'CB'   # Slow Curveball\n",
    "    }\n",
    "    \n",
    "    # Apply the mapping to the pitch_type column\n",
    "    data['pitch_type'] = data['pitch_type'].map(pitch_type_map).fillna(data['pitch_type'])\n",
    "    return data"
   ]
  },
  {
   "cell_type": "code",
   "execution_count": 5,
   "id": "c5166e3d",
   "metadata": {},
   "outputs": [],
   "source": [
    "def consolidate_pitch_types_new(data):\n",
    "    # Mapping dictionary for pitch types\n",
    "    pitch_type_map = {\n",
    "        'CH': 'CH',  # Changeup\n",
    "        'CU': 'CB',  # Curveball\n",
    "        'FC': 'FC',  # Cutter\n",
    "        'EP': 'CH',  # Eephus\n",
    "        'FO': 'CH',  # Forkball\n",
    "        'FF': 'FF',  # Four-Seam Fastball\n",
    "        'KN': 'KN',  # Knuckleball\n",
    "        'KC': 'CB',  # Knuckle-curve\n",
    "        'SC': 'CH',  # Screwball\n",
    "        'SI': 'SI',  # Sinker\n",
    "        'SL': 'SL',  # Slider\n",
    "        'SV': 'CB',  # Slurve\n",
    "        'FS': 'CH',  # Splitter\n",
    "        'ST': 'SL',  # Sweeper\n",
    "        'FA': 'FF',  # Fastball\n",
    "        'PO': 'PO',  # Pitch out\n",
    "        'CS': 'CB'   # Slow Curveball\n",
    "    }\n",
    "    \n",
    "    # Apply the mapping to the pitch_type column\n",
    "    data['pitch_type'] = data['pitch_type'].map(pitch_type_map).fillna(data['pitch_type'])\n",
    "    return data"
   ]
  },
  {
   "cell_type": "code",
   "execution_count": 6,
   "id": "dfdc916d",
   "metadata": {},
   "outputs": [],
   "source": [
    "pybaseball.cache.enable()"
   ]
  },
  {
   "cell_type": "code",
   "execution_count": 7,
   "id": "e7cddf70",
   "metadata": {},
   "outputs": [
    {
     "name": "stdout",
     "output_type": "stream",
     "text": [
      "This is a large query, it may take a moment to complete\n",
      "Skipping offseason dates\n",
      "Skipping offseason dates\n",
      "Skipping offseason dates\n",
      "Skipping offseason dates\n",
      "Skipping offseason dates\n",
      "Skipping offseason dates\n",
      "Skipping offseason dates\n"
     ]
    },
    {
     "name": "stderr",
     "output_type": "stream",
     "text": [
      "100%|██████████████████████████████████████████████████████████████████████████████| 1472/1472 [04:10<00:00,  5.88it/s]\n"
     ]
    }
   ],
   "source": [
    "start_date = '2017-04-01'\n",
    "end_date = '2023-10-30'\n",
    "data = fetch_statcast_data(start_date, end_date)"
   ]
  },
  {
   "cell_type": "code",
   "execution_count": 8,
   "id": "d349c12a",
   "metadata": {},
   "outputs": [],
   "source": [
    "data.sort_values('game_date', inplace=True)"
   ]
  },
  {
   "cell_type": "code",
   "execution_count": 9,
   "id": "2646efc2",
   "metadata": {},
   "outputs": [
    {
     "data": {
      "text/plain": [
       "Index(['pitch_type', 'game_date', 'release_speed', 'release_pos_x',\n",
       "       'release_pos_z', 'player_name', 'batter', 'pitcher', 'events',\n",
       "       'description', 'spin_dir', 'spin_rate_deprecated',\n",
       "       'break_angle_deprecated', 'break_length_deprecated', 'zone', 'des',\n",
       "       'game_type', 'stand', 'p_throws', 'home_team', 'away_team', 'type',\n",
       "       'hit_location', 'bb_type', 'balls', 'strikes', 'game_year', 'pfx_x',\n",
       "       'pfx_z', 'plate_x', 'plate_z', 'on_3b', 'on_2b', 'on_1b',\n",
       "       'outs_when_up', 'inning', 'inning_topbot', 'hc_x', 'hc_y',\n",
       "       'tfs_deprecated', 'tfs_zulu_deprecated', 'fielder_2', 'umpire', 'sv_id',\n",
       "       'vx0', 'vy0', 'vz0', 'ax', 'ay', 'az', 'sz_top', 'sz_bot',\n",
       "       'hit_distance_sc', 'launch_speed', 'launch_angle', 'effective_speed',\n",
       "       'release_spin_rate', 'release_extension', 'game_pk', 'pitcher.1',\n",
       "       'fielder_2.1', 'fielder_3', 'fielder_4', 'fielder_5', 'fielder_6',\n",
       "       'fielder_7', 'fielder_8', 'fielder_9', 'release_pos_y',\n",
       "       'estimated_ba_using_speedangle', 'estimated_woba_using_speedangle',\n",
       "       'woba_value', 'woba_denom', 'babip_value', 'iso_value',\n",
       "       'launch_speed_angle', 'at_bat_number', 'pitch_number', 'pitch_name',\n",
       "       'home_score', 'away_score', 'bat_score', 'fld_score', 'post_away_score',\n",
       "       'post_home_score', 'post_bat_score', 'post_fld_score',\n",
       "       'if_fielding_alignment', 'of_fielding_alignment', 'spin_axis',\n",
       "       'delta_home_win_exp', 'delta_run_exp', 'bat_speed', 'swing_length'],\n",
       "      dtype='object')"
      ]
     },
     "execution_count": 9,
     "metadata": {},
     "output_type": "execute_result"
    }
   ],
   "source": [
    "data.columns"
   ]
  },
  {
   "cell_type": "code",
   "execution_count": 10,
   "id": "985bab4b",
   "metadata": {},
   "outputs": [],
   "source": [
    "data_pt_cur = consolidate_pitch_types_cur(data)"
   ]
  },
  {
   "cell_type": "code",
   "execution_count": 11,
   "id": "06c4f64e",
   "metadata": {},
   "outputs": [],
   "source": [
    "data_pt_new = consolidate_pitch_types_new(data)"
   ]
  },
  {
   "cell_type": "code",
   "execution_count": 12,
   "id": "63e41de8",
   "metadata": {},
   "outputs": [
    {
     "ename": "NameError",
     "evalue": "name 'data_pt' is not defined",
     "output_type": "error",
     "traceback": [
      "\u001b[1;31m---------------------------------------------------------------------------\u001b[0m",
      "\u001b[1;31mNameError\u001b[0m                                 Traceback (most recent call last)",
      "\u001b[1;32m~\\AppData\\Local\\Temp/ipykernel_12064/2226684531.py\u001b[0m in \u001b[0;36m<module>\u001b[1;34m\u001b[0m\n\u001b[1;32m----> 1\u001b[1;33m \u001b[0mdata_pt_cur\u001b[0m \u001b[1;33m=\u001b[0m \u001b[0mdata_pt\u001b[0m\u001b[1;33m.\u001b[0m\u001b[0miloc\u001b[0m\u001b[1;33m[\u001b[0m\u001b[1;36m2\u001b[0m\u001b[1;33m:\u001b[0m\u001b[1;33m]\u001b[0m\u001b[1;33m\u001b[0m\u001b[1;33m\u001b[0m\u001b[0m\n\u001b[0m",
      "\u001b[1;31mNameError\u001b[0m: name 'data_pt' is not defined"
     ]
    }
   ],
   "source": [
    "data_pt_cur = data_pt.iloc[2:]"
   ]
  },
  {
   "cell_type": "code",
   "execution_count": null,
   "id": "5a5aeb8a",
   "metadata": {},
   "outputs": [],
   "source": [
    "data_pt_cur[['game_date', 'pitch_number','batter', 'pitcher','balls','strikes','type', 'pitch_type', 'events', 'at_bat_number','player_name']].head(10)"
   ]
  },
  {
   "cell_type": "code",
   "execution_count": null,
   "id": "6ec5c017",
   "metadata": {},
   "outputs": [],
   "source": [
    "data_pt_new.pitch_type.value_counts(normalize=True)"
   ]
  },
  {
   "cell_type": "code",
   "execution_count": null,
   "id": "90ef88b4",
   "metadata": {},
   "outputs": [],
   "source": [
    "data_pt_cur.pitch_type.value_counts(normalize=True)"
   ]
  },
  {
   "cell_type": "code",
   "execution_count": 36,
   "id": "d3751101",
   "metadata": {},
   "outputs": [],
   "source": [
    "data_toexport_cur = data_pt_cur[['game_date', 'pitch_number','batter', 'pitcher','balls','strikes','type', 'pitch_type', 'events', 'at_bat_number','player_name']]"
   ]
  },
  {
   "cell_type": "code",
   "execution_count": 41,
   "id": "8b6f7746",
   "metadata": {},
   "outputs": [],
   "source": [
    "data_toexport_new = data_pt_new[['game_date', 'pitch_number','batter', 'pitcher','balls','strikes','type', 'pitch_type', 'events', 'at_bat_number','player_name']]"
   ]
  },
  {
   "cell_type": "code",
   "execution_count": 37,
   "id": "ed2bd9bd",
   "metadata": {},
   "outputs": [],
   "source": [
    "data_toexport_cur.to_csv('../../data/raw_data_curmap.csv', index=False)"
   ]
  },
  {
   "cell_type": "code",
   "execution_count": 42,
   "id": "4ac34f52",
   "metadata": {},
   "outputs": [],
   "source": [
    "data_toexport_new.to_csv('../../data/raw_data_newmap.csv', index=False)"
   ]
  },
  {
   "cell_type": "code",
   "execution_count": 43,
   "id": "b691e409",
   "metadata": {},
   "outputs": [
    {
     "data": {
      "text/html": [
       "<div>\n",
       "<style scoped>\n",
       "    .dataframe tbody tr th:only-of-type {\n",
       "        vertical-align: middle;\n",
       "    }\n",
       "\n",
       "    .dataframe tbody tr th {\n",
       "        vertical-align: top;\n",
       "    }\n",
       "\n",
       "    .dataframe thead th {\n",
       "        text-align: right;\n",
       "    }\n",
       "</style>\n",
       "<table border=\"1\" class=\"dataframe\">\n",
       "  <thead>\n",
       "    <tr style=\"text-align: right;\">\n",
       "      <th></th>\n",
       "      <th>game_date</th>\n",
       "      <th>pitch_number</th>\n",
       "      <th>batter</th>\n",
       "      <th>pitcher</th>\n",
       "      <th>balls</th>\n",
       "      <th>strikes</th>\n",
       "      <th>type</th>\n",
       "      <th>pitch_type</th>\n",
       "      <th>events</th>\n",
       "      <th>at_bat_number</th>\n",
       "      <th>player_name</th>\n",
       "    </tr>\n",
       "  </thead>\n",
       "  <tbody>\n",
       "    <tr>\n",
       "      <th>743</th>\n",
       "      <td>2017-04-02</td>\n",
       "      <td>1</td>\n",
       "      <td>543305</td>\n",
       "      <td>643493</td>\n",
       "      <td>0</td>\n",
       "      <td>0</td>\n",
       "      <td>S</td>\n",
       "      <td>CB</td>\n",
       "      <td>NaN</td>\n",
       "      <td>76</td>\n",
       "      <td>Pruitt, Austin</td>\n",
       "    </tr>\n",
       "    <tr>\n",
       "      <th>715</th>\n",
       "      <td>2017-04-02</td>\n",
       "      <td>2</td>\n",
       "      <td>543305</td>\n",
       "      <td>643493</td>\n",
       "      <td>0</td>\n",
       "      <td>1</td>\n",
       "      <td>B</td>\n",
       "      <td>CH</td>\n",
       "      <td>NaN</td>\n",
       "      <td>76</td>\n",
       "      <td>Pruitt, Austin</td>\n",
       "    </tr>\n",
       "    <tr>\n",
       "      <th>692</th>\n",
       "      <td>2017-04-02</td>\n",
       "      <td>3</td>\n",
       "      <td>543305</td>\n",
       "      <td>643493</td>\n",
       "      <td>1</td>\n",
       "      <td>1</td>\n",
       "      <td>B</td>\n",
       "      <td>SI</td>\n",
       "      <td>NaN</td>\n",
       "      <td>76</td>\n",
       "      <td>Pruitt, Austin</td>\n",
       "    </tr>\n",
       "    <tr>\n",
       "      <th>671</th>\n",
       "      <td>2017-04-02</td>\n",
       "      <td>4</td>\n",
       "      <td>543305</td>\n",
       "      <td>643493</td>\n",
       "      <td>2</td>\n",
       "      <td>1</td>\n",
       "      <td>X</td>\n",
       "      <td>SI</td>\n",
       "      <td>single</td>\n",
       "      <td>76</td>\n",
       "      <td>Pruitt, Austin</td>\n",
       "    </tr>\n",
       "    <tr>\n",
       "      <th>901</th>\n",
       "      <td>2017-04-02</td>\n",
       "      <td>1</td>\n",
       "      <td>474892</td>\n",
       "      <td>517008</td>\n",
       "      <td>0</td>\n",
       "      <td>0</td>\n",
       "      <td>S</td>\n",
       "      <td>FC</td>\n",
       "      <td>NaN</td>\n",
       "      <td>77</td>\n",
       "      <td>Colomé, Alex</td>\n",
       "    </tr>\n",
       "  </tbody>\n",
       "</table>\n",
       "</div>"
      ],
      "text/plain": [
       "     game_date  pitch_number  batter  pitcher  balls  strikes type pitch_type  \\\n",
       "743 2017-04-02             1  543305   643493      0        0    S         CB   \n",
       "715 2017-04-02             2  543305   643493      0        1    B         CH   \n",
       "692 2017-04-02             3  543305   643493      1        1    B         SI   \n",
       "671 2017-04-02             4  543305   643493      2        1    X         SI   \n",
       "901 2017-04-02             1  474892   517008      0        0    S         FC   \n",
       "\n",
       "     events  at_bat_number     player_name  \n",
       "743     NaN             76  Pruitt, Austin  \n",
       "715     NaN             76  Pruitt, Austin  \n",
       "692     NaN             76  Pruitt, Austin  \n",
       "671  single             76  Pruitt, Austin  \n",
       "901     NaN             77    Colomé, Alex  "
      ]
     },
     "execution_count": 43,
     "metadata": {},
     "output_type": "execute_result"
    }
   ],
   "source": [
    "data_toexport.head()"
   ]
  },
  {
   "cell_type": "code",
   "execution_count": null,
   "id": "a68cbf50",
   "metadata": {},
   "outputs": [],
   "source": [
    "result_df = process_data(data_pt_cur)\n",
    "print(result_df.head())"
   ]
  },
  {
   "cell_type": "code",
   "execution_count": 11,
   "id": "b2b3d0dd",
   "metadata": {},
   "outputs": [
    {
     "data": {
      "text/plain": [
       "83      Eflin, Zach\n",
       "92      Eflin, Zach\n",
       "96      Eflin, Zach\n",
       "101     Eflin, Zach\n",
       "107     Eflin, Zach\n",
       "           ...     \n",
       "3860    Eflin, Zach\n",
       "3993    Eflin, Zach\n",
       "4188    Eflin, Zach\n",
       "4258    Eflin, Zach\n",
       "4344    Eflin, Zach\n",
       "Name: player_name, Length: 2652, dtype: object"
      ]
     },
     "execution_count": 11,
     "metadata": {},
     "output_type": "execute_result"
    }
   ],
   "source": [
    "data_pt[data_pt['pitcher']==621107]['player_name']"
   ]
  },
  {
   "cell_type": "code",
   "execution_count": 12,
   "id": "6158d007",
   "metadata": {},
   "outputs": [
    {
     "data": {
      "text/plain": [
       "(185538, 3)"
      ]
     },
     "execution_count": 12,
     "metadata": {},
     "output_type": "execute_result"
    }
   ],
   "source": [
    "result_df.shape"
   ]
  },
  {
   "cell_type": "code",
   "execution_count": 13,
   "id": "2ae39784",
   "metadata": {},
   "outputs": [
    {
     "data": {
      "text/html": [
       "<div>\n",
       "<style scoped>\n",
       "    .dataframe tbody tr th:only-of-type {\n",
       "        vertical-align: middle;\n",
       "    }\n",
       "\n",
       "    .dataframe tbody tr th {\n",
       "        vertical-align: top;\n",
       "    }\n",
       "\n",
       "    .dataframe thead th {\n",
       "        text-align: right;\n",
       "    }\n",
       "</style>\n",
       "<table border=\"1\" class=\"dataframe\">\n",
       "  <thead>\n",
       "    <tr style=\"text-align: right;\">\n",
       "      <th></th>\n",
       "      <th>Pitch Sequence</th>\n",
       "      <th>Pitcher ID</th>\n",
       "      <th>At-Bat Outcome</th>\n",
       "    </tr>\n",
       "  </thead>\n",
       "  <tbody>\n",
       "    <tr>\n",
       "      <th>0</th>\n",
       "      <td>SI</td>\n",
       "      <td>621107</td>\n",
       "      <td>field_error</td>\n",
       "    </tr>\n",
       "    <tr>\n",
       "      <th>1</th>\n",
       "      <td>SI,CB,FC,SI,CB,SI,FF</td>\n",
       "      <td>621107</td>\n",
       "      <td>single</td>\n",
       "    </tr>\n",
       "    <tr>\n",
       "      <th>2</th>\n",
       "      <td>ST,ST,SI,SI,ST,ST</td>\n",
       "      <td>676534</td>\n",
       "      <td>walk</td>\n",
       "    </tr>\n",
       "    <tr>\n",
       "      <th>3</th>\n",
       "      <td>SI,ST,SI,ST,SI</td>\n",
       "      <td>687330</td>\n",
       "      <td>grounded_into_double_play</td>\n",
       "    </tr>\n",
       "    <tr>\n",
       "      <th>4</th>\n",
       "      <td>FF,FF,FF,SL,FF,SL</td>\n",
       "      <td>477132</td>\n",
       "      <td>strikeout</td>\n",
       "    </tr>\n",
       "  </tbody>\n",
       "</table>\n",
       "</div>"
      ],
      "text/plain": [
       "         Pitch Sequence  Pitcher ID             At-Bat Outcome\n",
       "0                    SI      621107                field_error\n",
       "1  SI,CB,FC,SI,CB,SI,FF      621107                     single\n",
       "2     ST,ST,SI,SI,ST,ST      676534                       walk\n",
       "3        SI,ST,SI,ST,SI      687330  grounded_into_double_play\n",
       "4     FF,FF,FF,SL,FF,SL      477132                  strikeout"
      ]
     },
     "execution_count": 13,
     "metadata": {},
     "output_type": "execute_result"
    }
   ],
   "source": [
    "result_df.head()"
   ]
  },
  {
   "cell_type": "code",
   "execution_count": 14,
   "id": "b9bbcd21",
   "metadata": {},
   "outputs": [],
   "source": [
    "result_df.to_csv('../../data/sequence_data_opt.csv', index=False)"
   ]
  },
  {
   "cell_type": "code",
   "execution_count": null,
   "id": "ded84fbd",
   "metadata": {},
   "outputs": [],
   "source": []
  }
 ],
 "metadata": {
  "kernelspec": {
   "display_name": "Python 3 (ipykernel)",
   "language": "python",
   "name": "python3"
  },
  "language_info": {
   "codemirror_mode": {
    "name": "ipython",
    "version": 3
   },
   "file_extension": ".py",
   "mimetype": "text/x-python",
   "name": "python",
   "nbconvert_exporter": "python",
   "pygments_lexer": "ipython3",
   "version": "3.11.9"
  }
 },
 "nbformat": 4,
 "nbformat_minor": 5
}
