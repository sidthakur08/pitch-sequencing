{
 "cells": [
  {
   "cell_type": "code",
   "execution_count": 1,
   "metadata": {},
   "outputs": [],
   "source": [
    "%load_ext autoreload\n",
    "%autoreload 2"
   ]
  },
  {
   "cell_type": "code",
   "execution_count": 2,
   "metadata": {},
   "outputs": [],
   "source": [
    "import typing\n",
    "\n",
    "import pandas as pd\n",
    "import numpy as np\n",
    "import torch\n",
    "import torch.nn as nn\n",
    "import torch.nn.functional as F\n",
    "\n",
    "from torch.utils.data import Dataset, DataLoader"
   ]
  },
  {
   "cell_type": "code",
   "execution_count": 19,
   "metadata": {},
   "outputs": [
    {
     "data": {
      "text/html": [
       "<div>\n",
       "<style scoped>\n",
       "    .dataframe tbody tr th:only-of-type {\n",
       "        vertical-align: middle;\n",
       "    }\n",
       "\n",
       "    .dataframe tbody tr th {\n",
       "        vertical-align: top;\n",
       "    }\n",
       "\n",
       "    .dataframe thead th {\n",
       "        text-align: right;\n",
       "    }\n",
       "</style>\n",
       "<table border=\"1\" class=\"dataframe\">\n",
       "  <thead>\n",
       "    <tr style=\"text-align: right;\">\n",
       "      <th></th>\n",
       "      <th>pitch_sequence</th>\n",
       "      <th>count_sequence</th>\n",
       "      <th>zone_sequence</th>\n",
       "      <th>p_throws</th>\n",
       "      <th>stand</th>\n",
       "      <th>pitcher_id</th>\n",
       "      <th>batter_id</th>\n",
       "      <th>at_bat_number</th>\n",
       "    </tr>\n",
       "  </thead>\n",
       "  <tbody>\n",
       "    <tr>\n",
       "      <th>0</th>\n",
       "      <td>CH,SI</td>\n",
       "      <td>0-0,1-0</td>\n",
       "      <td>11,6</td>\n",
       "      <td>R</td>\n",
       "      <td>R</td>\n",
       "      <td>112526</td>\n",
       "      <td>572039</td>\n",
       "      <td>44</td>\n",
       "    </tr>\n",
       "    <tr>\n",
       "      <th>1</th>\n",
       "      <td>CH,SI,SI</td>\n",
       "      <td>0-0,1-0,1-1</td>\n",
       "      <td>11,6,11</td>\n",
       "      <td>R</td>\n",
       "      <td>R</td>\n",
       "      <td>112526</td>\n",
       "      <td>572039</td>\n",
       "      <td>44</td>\n",
       "    </tr>\n",
       "    <tr>\n",
       "      <th>2</th>\n",
       "      <td>CH,CH</td>\n",
       "      <td>0-0,1-0</td>\n",
       "      <td>14,4</td>\n",
       "      <td>R</td>\n",
       "      <td>L</td>\n",
       "      <td>543037</td>\n",
       "      <td>624512</td>\n",
       "      <td>37</td>\n",
       "    </tr>\n",
       "    <tr>\n",
       "      <th>3</th>\n",
       "      <td>FF,FF</td>\n",
       "      <td>0-0,0-1</td>\n",
       "      <td>1,11</td>\n",
       "      <td>R</td>\n",
       "      <td>L</td>\n",
       "      <td>642121</td>\n",
       "      <td>544369</td>\n",
       "      <td>84</td>\n",
       "    </tr>\n",
       "    <tr>\n",
       "      <th>4</th>\n",
       "      <td>FF,FF,FF</td>\n",
       "      <td>0-0,0-1,0-2</td>\n",
       "      <td>1,11,11</td>\n",
       "      <td>R</td>\n",
       "      <td>L</td>\n",
       "      <td>642121</td>\n",
       "      <td>544369</td>\n",
       "      <td>84</td>\n",
       "    </tr>\n",
       "  </tbody>\n",
       "</table>\n",
       "</div>"
      ],
      "text/plain": [
       "  pitch_sequence count_sequence zone_sequence p_throws stand  pitcher_id  \\\n",
       "0          CH,SI        0-0,1-0          11,6        R     R      112526   \n",
       "1       CH,SI,SI    0-0,1-0,1-1       11,6,11        R     R      112526   \n",
       "2          CH,CH        0-0,1-0          14,4        R     L      543037   \n",
       "3          FF,FF        0-0,0-1          1,11        R     L      642121   \n",
       "4       FF,FF,FF    0-0,0-1,0-2       1,11,11        R     L      642121   \n",
       "\n",
       "   batter_id  at_bat_number  \n",
       "0     572039             44  \n",
       "1     572039             44  \n",
       "2     624512             37  \n",
       "3     544369             84  \n",
       "4     544369             84  "
      ]
     },
     "execution_count": 19,
     "metadata": {},
     "output_type": "execute_result"
    }
   ],
   "source": [
    "exploded_test_df = pd.read_csv('gs://pitch-sequencing/sequence_data/full_sequence_data/exploded/large_cur_test.csv')\n",
    "arsenal_df = pd.read_csv(\"gs://pitch-sequencing/arsenal_data/pitch_arsenal_data.csv\")\n",
    "exploded_test_df.head(5)"
   ]
  },
  {
   "cell_type": "code",
   "execution_count": 33,
   "metadata": {},
   "outputs": [],
   "source": [
    "from pitch_sequencing.ml.data.pitch_arsenal import PitchArsenalSequenceDataset, collate_interleaved_and_target\n",
    "from pitch_sequencing.ml.tokenizers.pitch_arsenal import ArsenalSequenceTokenizer, PitchArsenalLookupTable\n",
    "from pitch_sequencing.ml.models.last_pitch import LastPitchTransformerModel\n",
    "\n",
    "arsenal_lookup_table = PitchArsenalLookupTable(arsenal_df)\n",
    "\n",
    "# Hardcode 63 for now.\n",
    "tokenizer = ArsenalSequenceTokenizer(arsenal_lookup_table.max_arsenal_size, max_pitch_count_seq_len=63)\n",
    "exploded_test_dataset = PitchArsenalSequenceDataset(exploded_test_df, tokenizer, arsenal_lookup_table)\n",
    "model = LastPitchTransformerModel(tokenizer.vocab_size(), d_model=64, nhead=4, num_layers=2)\n",
    "collate_fn = collate_interleaved_and_target\n",
    "loss = nn.CrossEntropyLoss()"
   ]
  },
  {
   "cell_type": "code",
   "execution_count": 34,
   "metadata": {},
   "outputs": [
    {
     "name": "stdout",
     "output_type": "stream",
     "text": [
      "[1, 2, 4, 9, 10, 12, 0, 0, 0, 0, 0, 3, 14, 4, 15, 9, 18, 0, 0, 0, 0, 0, 0, 0, 0, 0, 0, 0, 0, 0, 0, 0, 0, 0, 0, 0, 0, 0, 0, 0, 0, 0, 0, 0, 0, 0, 0, 0, 0, 0, 0, 0, 0, 0, 0, 0, 0, 0, 0, 0, 0, 0, 0, 0, 0, 0, 0, 0, 0, 0, 0, 0, 0, 0, 0]\n",
      "[False, False, False, False, False, False, True, True, True, True, True, False, False, False, False, False, False, True, True, True, True, True, True, True, True, True, True, True, True, True, True, True, True, True, True, True, True, True, True, True, True, True, True, True, True, True, True, True, True, True, True, True, True, True, True, True, True, True, True, True, True, True, True, True, True, True, True, True, True, True, True, True, True, True, True]\n",
      "75\n",
      "75\n"
     ]
    },
    {
     "data": {
      "text/plain": [
       "tensor([[ 0.3231,  0.1977,  0.6200,  0.2015,  0.7211,  0.0818, -0.4977, -0.5869,\n",
       "         -0.2521,  0.2730, -0.4603, -0.7118,  1.2122, -0.0908, -0.2656, -0.0957,\n",
       "         -0.1569,  0.1959, -0.0886, -0.0035, -0.4848, -0.1200, -0.4860,  0.1505,\n",
       "          0.0718, -1.0243]], grad_fn=<AddmmBackward0>)"
      ]
     },
     "execution_count": 34,
     "metadata": {},
     "output_type": "execute_result"
    }
   ],
   "source": [
    "tokenized_seq, padding_mask = tokenizer.tokenize(\"CB,FF\", \"0-0,0-1,1-1\", 'CB,FF,SL,SI')\n",
    "print(tokenized_seq)\n",
    "print(padding_mask)\n",
    "\n",
    "print(len(tokenized_seq))\n",
    "print(len(padding_mask))\n",
    "\n",
    "model(torch.tensor([tokenized_seq]), torch.tensor([padding_mask]))"
   ]
  },
  {
   "cell_type": "code",
   "execution_count": 38,
   "metadata": {},
   "outputs": [
    {
     "data": {
      "text/plain": [
       "tensor([[ 0.2185,  0.3749,  0.1458,  0.1055,  0.8463,  0.1516, -0.3850, -0.5745,\n",
       "         -0.2320,  0.3702, -0.5755, -0.6878,  1.1523, -0.0229, -0.3789, -0.0253,\n",
       "         -0.1036,  0.2726, -0.1879,  0.1412, -0.3743, -0.1512, -0.4431,  0.1153,\n",
       "          0.2696, -0.9759]], grad_fn=<AddmmBackward0>)"
      ]
     },
     "execution_count": 38,
     "metadata": {},
     "output_type": "execute_result"
    }
   ],
   "source": [
    "from dataclasses import asdict \n",
    "input, target = exploded_test_dataset[0]\n",
    "input = input.unsqueeze(0)\n",
    "target = target.unsqueeze(0)\n",
    "model(**asdict(input))"
   ]
  },
  {
   "cell_type": "code",
   "execution_count": 37,
   "metadata": {},
   "outputs": [
    {
     "name": "stdout",
     "output_type": "stream",
     "text": [
      "tensor([[ 0.2167,  0.2715,  0.4210,  0.0115,  0.8873,  0.2128, -0.3073, -0.5924,\n",
      "         -0.3030,  0.2981, -0.6125, -0.7087,  1.0777,  0.0853, -0.4824, -0.1237,\n",
      "         -0.0903,  0.4137, -0.2437,  0.0896, -0.2602, -0.1749, -0.5908,  0.1689,\n",
      "          0.1270, -0.9866],\n",
      "        [ 0.1948,  0.3281,  0.4273,  0.1103,  0.9630,  0.0342, -0.4297, -0.4885,\n",
      "         -0.1130,  0.2928, -0.6178, -0.6262,  1.1434,  0.2131, -0.3882,  0.0547,\n",
      "         -0.1792,  0.3132, -0.1230, -0.1384, -0.3694, -0.1657, -0.3893,  0.2374,\n",
      "          0.2843, -0.9909],\n",
      "        [ 0.3303,  0.2975,  0.2686,  0.2670,  0.8783, -0.0797, -0.4729, -0.4840,\n",
      "         -0.4328,  0.6406, -0.6992, -0.6830,  1.2117, -0.0776, -0.3082,  0.0043,\n",
      "         -0.1419,  0.4666, -0.2790,  0.0514, -0.4386, -0.0709, -0.4661,  0.1286,\n",
      "          0.2087, -1.0578],\n",
      "        [ 0.2955,  0.5127,  0.5720,  0.3418,  0.7210,  0.3020, -0.2938, -0.5810,\n",
      "         -0.2580,  0.2720, -0.7301, -0.7970,  1.1582, -0.0690, -0.4738, -0.1278,\n",
      "         -0.2445,  0.2857, -0.0408, -0.0737, -0.4526,  0.0750, -0.6329,  0.1827,\n",
      "          0.3126, -0.8783]], grad_fn=<AddmmBackward0>)\n"
     ]
    }
   ],
   "source": [
    "from dataclasses import asdict \n",
    "\n",
    "test_dataloader = DataLoader(exploded_test_dataset, batch_size=4, collate_fn=collate_fn)\n",
    "\n",
    "for batch in test_dataloader:\n",
    "    input, target = batch\n",
    "    print(model(**asdict(input)))\n",
    "    break"
   ]
  },
  {
   "cell_type": "code",
   "execution_count": null,
   "metadata": {},
   "outputs": [],
   "source": []
  }
 ],
 "metadata": {
  "kernelspec": {
   "display_name": "pitch-sequencing",
   "language": "python",
   "name": "python3"
  },
  "language_info": {
   "codemirror_mode": {
    "name": "ipython",
    "version": 3
   },
   "file_extension": ".py",
   "mimetype": "text/x-python",
   "name": "python",
   "nbconvert_exporter": "python",
   "pygments_lexer": "ipython3",
   "version": "3.11.9"
  }
 },
 "nbformat": 4,
 "nbformat_minor": 2
}
