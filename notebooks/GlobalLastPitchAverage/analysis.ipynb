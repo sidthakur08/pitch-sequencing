{
 "cells": [
  {
   "cell_type": "code",
   "execution_count": 2,
   "metadata": {},
   "outputs": [],
   "source": [
    "import typing\n",
    "\n",
    "import pandas as pd\n",
    "import numpy as np\n",
    "import torch\n",
    "import torch.nn as nn\n",
    "import torch.nn.functional as F\n",
    "\n",
    "from torch.utils.data import Dataset, DataLoader\n",
    "from sklearn.model_selection import train_test_split\n",
    "from collections import defaultdict"
   ]
  },
  {
   "cell_type": "code",
   "execution_count": 3,
   "metadata": {},
   "outputs": [],
   "source": [
    "seq_df = pd.read_csv('gs://pitch-sequencing/sequence_data/large_sequence_data_cur_opt.csv')\n",
    "raw_df = pd.read_csv('../../data/raw_data_curmap.csv')"
   ]
  },
  {
   "cell_type": "code",
   "execution_count": 7,
   "metadata": {},
   "outputs": [
    {
     "data": {
      "text/html": [
       "<div>\n",
       "<style scoped>\n",
       "    .dataframe tbody tr th:only-of-type {\n",
       "        vertical-align: middle;\n",
       "    }\n",
       "\n",
       "    .dataframe tbody tr th {\n",
       "        vertical-align: top;\n",
       "    }\n",
       "\n",
       "    .dataframe thead th {\n",
       "        text-align: right;\n",
       "    }\n",
       "</style>\n",
       "<table border=\"1\" class=\"dataframe\">\n",
       "  <thead>\n",
       "    <tr style=\"text-align: right;\">\n",
       "      <th></th>\n",
       "      <th>game_date</th>\n",
       "      <th>pitch_number</th>\n",
       "      <th>batter</th>\n",
       "      <th>pitcher</th>\n",
       "      <th>balls</th>\n",
       "      <th>strikes</th>\n",
       "      <th>type</th>\n",
       "      <th>pitch_type</th>\n",
       "      <th>events</th>\n",
       "      <th>at_bat_number</th>\n",
       "      <th>player_name</th>\n",
       "    </tr>\n",
       "  </thead>\n",
       "  <tbody>\n",
       "    <tr>\n",
       "      <th>0</th>\n",
       "      <td>2017-04-02</td>\n",
       "      <td>1</td>\n",
       "      <td>543305</td>\n",
       "      <td>643493</td>\n",
       "      <td>0</td>\n",
       "      <td>0</td>\n",
       "      <td>S</td>\n",
       "      <td>CB</td>\n",
       "      <td>NaN</td>\n",
       "      <td>76</td>\n",
       "      <td>Pruitt, Austin</td>\n",
       "    </tr>\n",
       "    <tr>\n",
       "      <th>1</th>\n",
       "      <td>2017-04-02</td>\n",
       "      <td>2</td>\n",
       "      <td>543305</td>\n",
       "      <td>643493</td>\n",
       "      <td>0</td>\n",
       "      <td>1</td>\n",
       "      <td>B</td>\n",
       "      <td>CH</td>\n",
       "      <td>NaN</td>\n",
       "      <td>76</td>\n",
       "      <td>Pruitt, Austin</td>\n",
       "    </tr>\n",
       "    <tr>\n",
       "      <th>2</th>\n",
       "      <td>2017-04-02</td>\n",
       "      <td>3</td>\n",
       "      <td>543305</td>\n",
       "      <td>643493</td>\n",
       "      <td>1</td>\n",
       "      <td>1</td>\n",
       "      <td>B</td>\n",
       "      <td>SI</td>\n",
       "      <td>NaN</td>\n",
       "      <td>76</td>\n",
       "      <td>Pruitt, Austin</td>\n",
       "    </tr>\n",
       "    <tr>\n",
       "      <th>3</th>\n",
       "      <td>2017-04-02</td>\n",
       "      <td>4</td>\n",
       "      <td>543305</td>\n",
       "      <td>643493</td>\n",
       "      <td>2</td>\n",
       "      <td>1</td>\n",
       "      <td>X</td>\n",
       "      <td>SI</td>\n",
       "      <td>single</td>\n",
       "      <td>76</td>\n",
       "      <td>Pruitt, Austin</td>\n",
       "    </tr>\n",
       "    <tr>\n",
       "      <th>4</th>\n",
       "      <td>2017-04-02</td>\n",
       "      <td>1</td>\n",
       "      <td>474892</td>\n",
       "      <td>517008</td>\n",
       "      <td>0</td>\n",
       "      <td>0</td>\n",
       "      <td>S</td>\n",
       "      <td>FC</td>\n",
       "      <td>NaN</td>\n",
       "      <td>77</td>\n",
       "      <td>Colomé, Alex</td>\n",
       "    </tr>\n",
       "  </tbody>\n",
       "</table>\n",
       "</div>"
      ],
      "text/plain": [
       "    game_date  pitch_number  batter  pitcher  balls  strikes type pitch_type  \\\n",
       "0  2017-04-02             1  543305   643493      0        0    S         CB   \n",
       "1  2017-04-02             2  543305   643493      0        1    B         CH   \n",
       "2  2017-04-02             3  543305   643493      1        1    B         SI   \n",
       "3  2017-04-02             4  543305   643493      2        1    X         SI   \n",
       "4  2017-04-02             1  474892   517008      0        0    S         FC   \n",
       "\n",
       "   events  at_bat_number     player_name  \n",
       "0     NaN             76  Pruitt, Austin  \n",
       "1     NaN             76  Pruitt, Austin  \n",
       "2     NaN             76  Pruitt, Austin  \n",
       "3  single             76  Pruitt, Austin  \n",
       "4     NaN             77    Colomé, Alex  "
      ]
     },
     "execution_count": 7,
     "metadata": {},
     "output_type": "execute_result"
    }
   ],
   "source": [
    "raw_df.head(5)"
   ]
  },
  {
   "cell_type": "code",
   "execution_count": 5,
   "metadata": {},
   "outputs": [
    {
     "data": {
      "text/html": [
       "<div>\n",
       "<style scoped>\n",
       "    .dataframe tbody tr th:only-of-type {\n",
       "        vertical-align: middle;\n",
       "    }\n",
       "\n",
       "    .dataframe tbody tr th {\n",
       "        vertical-align: top;\n",
       "    }\n",
       "\n",
       "    .dataframe thead th {\n",
       "        text-align: right;\n",
       "    }\n",
       "</style>\n",
       "<table border=\"1\" class=\"dataframe\">\n",
       "  <thead>\n",
       "    <tr style=\"text-align: right;\">\n",
       "      <th></th>\n",
       "      <th>Pitch Sequence</th>\n",
       "      <th>Pitcher ID</th>\n",
       "      <th>At-Bat Outcome</th>\n",
       "    </tr>\n",
       "  </thead>\n",
       "  <tbody>\n",
       "    <tr>\n",
       "      <th>0</th>\n",
       "      <td>FF,SL,FF,FF,SL</td>\n",
       "      <td>502042</td>\n",
       "      <td>field_out</td>\n",
       "    </tr>\n",
       "    <tr>\n",
       "      <th>1</th>\n",
       "      <td>FF,SL,FF,SL</td>\n",
       "      <td>502042</td>\n",
       "      <td>strikeout</td>\n",
       "    </tr>\n",
       "    <tr>\n",
       "      <th>2</th>\n",
       "      <td>FF,FF,SL</td>\n",
       "      <td>502042</td>\n",
       "      <td>field_out</td>\n",
       "    </tr>\n",
       "    <tr>\n",
       "      <th>3</th>\n",
       "      <td>FF,FF,CH,FF</td>\n",
       "      <td>543144</td>\n",
       "      <td>strikeout</td>\n",
       "    </tr>\n",
       "    <tr>\n",
       "      <th>4</th>\n",
       "      <td>CB,SI,CH,CH</td>\n",
       "      <td>452657</td>\n",
       "      <td>strikeout</td>\n",
       "    </tr>\n",
       "  </tbody>\n",
       "</table>\n",
       "</div>"
      ],
      "text/plain": [
       "   Pitch Sequence  Pitcher ID At-Bat Outcome\n",
       "0  FF,SL,FF,FF,SL      502042      field_out\n",
       "1     FF,SL,FF,SL      502042      strikeout\n",
       "2        FF,FF,SL      502042      field_out\n",
       "3     FF,FF,CH,FF      543144      strikeout\n",
       "4     CB,SI,CH,CH      452657      strikeout"
      ]
     },
     "execution_count": 5,
     "metadata": {},
     "output_type": "execute_result"
    }
   ],
   "source": [
    "seq_df.head(5)"
   ]
  },
  {
   "cell_type": "code",
   "execution_count": 9,
   "metadata": {},
   "outputs": [
    {
     "data": {
      "text/plain": [
       "pitch_type\n",
       "FF    0.346335\n",
       "SI    0.169459\n",
       "SL    0.167190\n",
       "CH    0.108277\n",
       "CB    0.104803\n",
       "FC    0.066759\n",
       "ST    0.019256\n",
       "FS    0.017013\n",
       "KN    0.000822\n",
       "PO    0.000086\n",
       "Name: proportion, dtype: float64"
      ]
     },
     "execution_count": 9,
     "metadata": {},
     "output_type": "execute_result"
    }
   ],
   "source": [
    "raw_df['pitch_type'].value_counts(normalize=True)"
   ]
  },
  {
   "cell_type": "code",
   "execution_count": 10,
   "metadata": {},
   "outputs": [],
   "source": [
    "seq_df['FirstPitch'] = seq_df['Pitch Sequence'].str.split(',').str[0]\n",
    "seq_df['LastPitch'] = seq_df['Pitch Sequence'].str.split(',').str[-1]"
   ]
  },
  {
   "cell_type": "code",
   "execution_count": 11,
   "metadata": {},
   "outputs": [
    {
     "data": {
      "text/plain": [
       "FirstPitch\n",
       "FF    0.362296\n",
       "SI    0.196761\n",
       "SL    0.153526\n",
       "CB    0.121856\n",
       "CH    0.071864\n",
       "FC    0.066095\n",
       "ST    0.017396\n",
       "FS    0.009188\n",
       "KN    0.000888\n",
       "PO    0.000131\n",
       "Name: proportion, dtype: float64"
      ]
     },
     "execution_count": 11,
     "metadata": {},
     "output_type": "execute_result"
    }
   ],
   "source": [
    "seq_df['FirstPitch'].value_counts(normalize=True)"
   ]
  },
  {
   "cell_type": "code",
   "execution_count": 12,
   "metadata": {},
   "outputs": [
    {
     "data": {
      "text/plain": [
       "LastPitch\n",
       "FF    0.331796\n",
       "SI    0.180846\n",
       "SL    0.168911\n",
       "CH    0.116125\n",
       "CB    0.095852\n",
       "FC    0.067169\n",
       "ST    0.019335\n",
       "FS    0.019082\n",
       "KN    0.000864\n",
       "PO    0.000020\n",
       "Name: proportion, dtype: float64"
      ]
     },
     "execution_count": 12,
     "metadata": {},
     "output_type": "execute_result"
    }
   ],
   "source": [
    "seq_df['LastPitch'].value_counts(normalize=True)"
   ]
  },
  {
   "cell_type": "code",
   "execution_count": 15,
   "metadata": {},
   "outputs": [],
   "source": [
    "seq_df['SeqLen'] = seq_df['Pitch Sequence'].str.split(',').str.len()"
   ]
  },
  {
   "cell_type": "code",
   "execution_count": 16,
   "metadata": {},
   "outputs": [
    {
     "data": {
      "text/html": [
       "<div>\n",
       "<style scoped>\n",
       "    .dataframe tbody tr th:only-of-type {\n",
       "        vertical-align: middle;\n",
       "    }\n",
       "\n",
       "    .dataframe tbody tr th {\n",
       "        vertical-align: top;\n",
       "    }\n",
       "\n",
       "    .dataframe thead th {\n",
       "        text-align: right;\n",
       "    }\n",
       "</style>\n",
       "<table border=\"1\" class=\"dataframe\">\n",
       "  <thead>\n",
       "    <tr style=\"text-align: right;\">\n",
       "      <th></th>\n",
       "      <th>Pitch Sequence</th>\n",
       "      <th>Pitcher ID</th>\n",
       "      <th>At-Bat Outcome</th>\n",
       "      <th>FirstPitch</th>\n",
       "      <th>LastPitch</th>\n",
       "      <th>SeqLen</th>\n",
       "    </tr>\n",
       "  </thead>\n",
       "  <tbody>\n",
       "    <tr>\n",
       "      <th>0</th>\n",
       "      <td>FF,SL,FF,FF,SL</td>\n",
       "      <td>502042</td>\n",
       "      <td>field_out</td>\n",
       "      <td>FF</td>\n",
       "      <td>SL</td>\n",
       "      <td>5</td>\n",
       "    </tr>\n",
       "    <tr>\n",
       "      <th>1</th>\n",
       "      <td>FF,SL,FF,SL</td>\n",
       "      <td>502042</td>\n",
       "      <td>strikeout</td>\n",
       "      <td>FF</td>\n",
       "      <td>SL</td>\n",
       "      <td>4</td>\n",
       "    </tr>\n",
       "    <tr>\n",
       "      <th>2</th>\n",
       "      <td>FF,FF,SL</td>\n",
       "      <td>502042</td>\n",
       "      <td>field_out</td>\n",
       "      <td>FF</td>\n",
       "      <td>SL</td>\n",
       "      <td>3</td>\n",
       "    </tr>\n",
       "    <tr>\n",
       "      <th>3</th>\n",
       "      <td>FF,FF,CH,FF</td>\n",
       "      <td>543144</td>\n",
       "      <td>strikeout</td>\n",
       "      <td>FF</td>\n",
       "      <td>FF</td>\n",
       "      <td>4</td>\n",
       "    </tr>\n",
       "    <tr>\n",
       "      <th>4</th>\n",
       "      <td>CB,SI,CH,CH</td>\n",
       "      <td>452657</td>\n",
       "      <td>strikeout</td>\n",
       "      <td>CB</td>\n",
       "      <td>CH</td>\n",
       "      <td>4</td>\n",
       "    </tr>\n",
       "    <tr>\n",
       "      <th>5</th>\n",
       "      <td>SI,CH,CH,FC,SI,FF</td>\n",
       "      <td>452657</td>\n",
       "      <td>strikeout</td>\n",
       "      <td>SI</td>\n",
       "      <td>FF</td>\n",
       "      <td>6</td>\n",
       "    </tr>\n",
       "    <tr>\n",
       "      <th>6</th>\n",
       "      <td>SI,FF,FF,CH</td>\n",
       "      <td>452657</td>\n",
       "      <td>strikeout</td>\n",
       "      <td>SI</td>\n",
       "      <td>CH</td>\n",
       "      <td>4</td>\n",
       "    </tr>\n",
       "    <tr>\n",
       "      <th>7</th>\n",
       "      <td>FS,FS,FF</td>\n",
       "      <td>493157</td>\n",
       "      <td>single</td>\n",
       "      <td>FS</td>\n",
       "      <td>FF</td>\n",
       "      <td>3</td>\n",
       "    </tr>\n",
       "    <tr>\n",
       "      <th>8</th>\n",
       "      <td>FF</td>\n",
       "      <td>453343</td>\n",
       "      <td>double</td>\n",
       "      <td>FF</td>\n",
       "      <td>FF</td>\n",
       "      <td>1</td>\n",
       "    </tr>\n",
       "    <tr>\n",
       "      <th>9</th>\n",
       "      <td>FF,FF,FC,FC,CB</td>\n",
       "      <td>518516</td>\n",
       "      <td>field_out</td>\n",
       "      <td>FF</td>\n",
       "      <td>CB</td>\n",
       "      <td>5</td>\n",
       "    </tr>\n",
       "  </tbody>\n",
       "</table>\n",
       "</div>"
      ],
      "text/plain": [
       "      Pitch Sequence  Pitcher ID At-Bat Outcome FirstPitch LastPitch  SeqLen\n",
       "0     FF,SL,FF,FF,SL      502042      field_out         FF        SL       5\n",
       "1        FF,SL,FF,SL      502042      strikeout         FF        SL       4\n",
       "2           FF,FF,SL      502042      field_out         FF        SL       3\n",
       "3        FF,FF,CH,FF      543144      strikeout         FF        FF       4\n",
       "4        CB,SI,CH,CH      452657      strikeout         CB        CH       4\n",
       "5  SI,CH,CH,FC,SI,FF      452657      strikeout         SI        FF       6\n",
       "6        SI,FF,FF,CH      452657      strikeout         SI        CH       4\n",
       "7           FS,FS,FF      493157         single         FS        FF       3\n",
       "8                 FF      453343         double         FF        FF       1\n",
       "9     FF,FF,FC,FC,CB      518516      field_out         FF        CB       5"
      ]
     },
     "execution_count": 16,
     "metadata": {},
     "output_type": "execute_result"
    }
   ],
   "source": [
    "seq_df.head(10)"
   ]
  },
  {
   "cell_type": "code",
   "execution_count": 18,
   "metadata": {},
   "outputs": [
    {
     "name": "stdout",
     "output_type": "stream",
     "text": [
      "Mean Sequence Length 3.9055074479207095\n",
      "Median Sequence Length 4.0\n"
     ]
    }
   ],
   "source": [
    "print(f\"Mean Sequence Length {seq_df['SeqLen'].mean()}\")\n",
    "print(f\"Median Sequence Length {seq_df['SeqLen'].median()}\")"
   ]
  },
  {
   "cell_type": "code",
   "execution_count": 22,
   "metadata": {},
   "outputs": [
    {
     "data": {
      "text/plain": [
       "SeqLen\n",
       "1     134012\n",
       "2     180342\n",
       "3     216397\n",
       "4     227418\n",
       "5     205521\n",
       "6     145207\n",
       "7      62376\n",
       "8      25056\n",
       "9       9220\n",
       "10      3531\n",
       "11      1163\n",
       "12       458\n",
       "13       150\n",
       "14        63\n",
       "15        14\n",
       "16         8\n",
       "17         4\n",
       "19         1\n",
       "21         1\n",
       "Name: count, dtype: int64"
      ]
     },
     "execution_count": 22,
     "metadata": {},
     "output_type": "execute_result"
    }
   ],
   "source": [
    "seq_df['SeqLen'].value_counts().sort_index()"
   ]
  },
  {
   "cell_type": "code",
   "execution_count": 20,
   "metadata": {},
   "outputs": [
    {
     "data": {
      "image/png": "[encoded data removed]",
      "text/plain": [
       "<Figure size 640x480 with 1 Axes>"
      ]
     },
     "metadata": {},
     "output_type": "display_data"
    }
   ],
   "source": [
    "import matplotlib.pyplot as plt\n",
    "\n",
    "# Generate a histogram\n",
    "plt.hist(seq_df['SeqLen'], bins=range(1, seq_df['SeqLen'].max() + 2), edgecolor='black')\n",
    "plt.title('Histogram of Sequence Lengths')\n",
    "plt.xlabel('Seq Length')\n",
    "plt.ylabel('Frequency')\n",
    "plt.xticks(range(1, seq_df['SeqLen'].max() + 1))  # Set x-ticks to be integer values of list lengths\n",
    "plt.show()"
   ]
  },
  {
   "cell_type": "markdown",
   "metadata": {},
   "source": [
    "# Now let's train a model."
   ]
  },
  {
   "cell_type": "markdown",
   "metadata": {},
   "source": [
    "### First generate some data splits"
   ]
  },
  {
   "cell_type": "code",
   "execution_count": 26,
   "metadata": {},
   "outputs": [],
   "source": [
    "# Drop sequences that are greater than 1 pitch\n",
    "seq_df_to_export = seq_df[seq_df[\"SeqLen\"] > 1]\n",
    "seq_df_to_export = seq_df.drop([\"LastPitch\", \"FirstPitch\", \"SeqLen\"], axis=1)"
   ]
  },
  {
   "cell_type": "code",
   "execution_count": 27,
   "metadata": {},
   "outputs": [],
   "source": [
    "# 70/20/10 Split\n",
    "train_df, temp_df = train_test_split(seq_df_to_export, test_size=0.3, random_state=42)\n",
    "validation_df, test_df = train_test_split(temp_df, test_size=1/3, random_state=42)  "
   ]
  },
  {
   "cell_type": "code",
   "execution_count": 28,
   "metadata": {},
   "outputs": [],
   "source": [
    "train_df.to_csv('gs://pitch-sequencing/sequence_data/last_pitch_prediction/large_cur_train.csv', index=False)\n",
    "validation_df.to_csv('gs://pitch-sequencing/sequence_data/last_pitch_prediction/large_cur_validation.csv', index=False)\n",
    "test_df.to_csv('gs://pitch-sequencing/sequence_data/last_pitch_prediction/large_cur_test.csv', index=False)"
   ]
  }
 ],
 "metadata": {
  "kernelspec": {
   "display_name": "pitch-sequencing",
   "language": "python",
   "name": "python3"
  },
  "language_info": {
   "codemirror_mode": {
    "name": "ipython",
    "version": 3
   },
   "file_extension": ".py",
   "mimetype": "text/x-python",
   "name": "python",
   "nbconvert_exporter": "python",
   "pygments_lexer": "ipython3",
   "version": "3.11.9"
  }
 },
 "nbformat": 4,
 "nbformat_minor": 2
}
